{
 "cells": [
  {
   "cell_type": "markdown",
   "metadata": {
    "application/vnd.databricks.v1+cell": {
     "cellMetadata": {
      "byteLimit": 2048000,
      "rowLimit": 10000
     },
     "inputWidgets": {},
     "nuid": "bfc914b6-d4db-4343-9535-9fd66af20ccf",
     "showTitle": false,
     "title": ""
    }
   },
   "source": [
    "<h2 style=\"text-align:left\">Databricks Vector Search</h2>\n"
   ]
  },
  {
   "cell_type": "markdown",
   "metadata": {
    "application/vnd.databricks.v1+cell": {
     "cellMetadata": {},
     "inputWidgets": {},
     "nuid": "06ab801a-77f0-4282-a15d-f644309b45f4",
     "showTitle": false,
     "title": ""
    }
   },
   "source": [
    "## How does it work?\n",
    "We will implement option1 from [Databricks docs](https://docs.databricks.com/en/generative-ai/vector-search.html):\n",
    "\n",
    "You provide a source Delta table that contains data in text format. Databricks calculates the embeddings, using a model that you specify, and optionally saves the embeddings to a table in Unity Catalog. As the Delta table is updated, the index stays synced with the Delta table.\n",
    "\n",
    "The following diagram illustrates the process:\n",
    "\n",
    "Calculate query embeddings. Query can include metadata filters.\n",
    "\n",
    "Perform similarity search to identify most relevant documents.\n",
    "\n",
    "Return the most relevant documents and append them to the query.  \n",
    "    \n",
    "<img src=\"https://nmd-gen-ai-workshop-content.s3.us-west-2.amazonaws.com/images/Screenshot+2024-05-25+at+3.02.39%E2%80%AFPM.png\" style=\"float: left; height: 350px; \">"
   ]
  },
  {
   "cell_type": "code",
   "execution_count": null,
   "metadata": {
    "application/vnd.databricks.v1+cell": {
     "cellMetadata": {
      "byteLimit": 2048000,
      "rowLimit": 10000
     },
     "inputWidgets": {},
     "nuid": "b4eb34ec-19d9-4075-a75f-bbf15f5a8267",
     "showTitle": false,
     "title": ""
    }
   },
   "outputs": [],
   "source": [
    "from databricks.vector_search.client import VectorSearchClient"
   ]
  },
  {
   "cell_type": "code",
   "execution_count": null,
   "metadata": {
    "application/vnd.databricks.v1+cell": {
     "cellMetadata": {
      "byteLimit": 2048000,
      "rowLimit": 10000
     },
     "inputWidgets": {},
     "nuid": "b67bf0ae-de97-40ad-a7b9-5b97859410a5",
     "showTitle": false,
     "title": ""
    }
   },
   "outputs": [],
   "source": [
    "#modify if needed\n",
    "CATLOG_NAME = \"<catalog_name>\" \n",
    "SCHEMA_NAME = \"vectorsearch\"\n",
    "\n",
    "VS_ENDPOINT_NAME = \"vector_search_endpoint\"\n",
    "VS_MODEL_NAME = \"databricks-bge-large-en\"\n",
    "\n",
    "TABLE_NAME = \"movies\"\n",
    "INDEX_NAME = \"moviesindex\""
   ]
  },
  {
   "cell_type": "code",
   "execution_count": null,
   "metadata": {
    "application/vnd.databricks.v1+cell": {
     "cellMetadata": {
      "byteLimit": 2048000,
      "rowLimit": 10000
     },
     "inputWidgets": {},
     "nuid": "ce169d0c-7850-41d0-8655-cf2a1ac701b2",
     "showTitle": false,
     "title": ""
    }
   },
   "outputs": [],
   "source": [
    "vsclient = VectorSearchClient(disable_notice=True)"
   ]
  },
  {
   "cell_type": "code",
   "execution_count": null,
   "metadata": {
    "application/vnd.databricks.v1+cell": {
     "cellMetadata": {
      "byteLimit": 2048000,
      "rowLimit": 10000
     },
     "inputWidgets": {},
     "nuid": "168d4317-31f6-4789-8226-830accd02e98",
     "showTitle": false,
     "title": ""
    }
   },
   "outputs": [
    {
     "name": "stdout",
     "output_type": "stream",
     "text": [
      "VectorSearch endpoint already exists.\n"
     ]
    }
   ],
   "source": [
    "#create VectorSearch endpoint if it does not exist\n",
    "try:  \n",
    "  vsclient.get_endpoint(name=VS_ENDPOINT_NAME)\n",
    "  print(\"VectorSearch endpoint already exists.\")\n",
    "except Exception as e:\n",
    "  if ('status_code 404' in e.args[0]): #endpoint does not exist   \n",
    "    #vsclient.create_endpoint_and_wait(name=VS_ENDPOINT_NAME)\n",
    "    vsclient.create_endpoint(name=VS_ENDPOINT_NAME) \n",
    "    print(\"VectorSearch endpoint is created.\")\n",
    "  else:\n",
    "    print(e)"
   ]
  },
  {
   "cell_type": "code",
   "execution_count": null,
   "metadata": {
    "application/vnd.databricks.v1+cell": {
     "cellMetadata": {
      "byteLimit": 2048000,
      "rowLimit": 10000
     },
     "inputWidgets": {},
     "nuid": "a6079868-9473-4b39-b416-6b779ffd13b0",
     "showTitle": false,
     "title": ""
    }
   },
   "outputs": [
    {
     "name": "stderr",
     "output_type": "stream",
     "text": [
      "WARNING:root:Error processing request 404 Client Error: Not Found for url: https://oregon.cloud.databricks.com/api/2.0/vector-search/endpoints/vector_search_endpoint/indexes/dbdemos.vectorsearch.moviesindex\n"
     ]
    },
    {
     "name": "stdout",
     "output_type": "stream",
     "text": [
      "Index does not exist\n"
     ]
    }
   ],
   "source": [
    "#delete index if it exists\n",
    "try:  \n",
    "  vsclient.delete_index(endpoint_name=VS_ENDPOINT_NAME, index_name=f\"{CATLOG_NAME}.{SCHEMA_NAME}.{INDEX_NAME}\")\n",
    "  print(\"Deleted index\")\n",
    "except Exception as e:\n",
    "  if ('status_code 404' in e.args[0]):\n",
    "    print(\"Index does not exist\")\n",
    "  else:\n",
    "    print(e)"
   ]
  },
  {
   "cell_type": "code",
   "execution_count": null,
   "metadata": {
    "application/vnd.databricks.v1+cell": {
     "cellMetadata": {},
     "inputWidgets": {},
     "nuid": "fd6aa438-c910-41b1-b950-8336ef8afd8f",
     "showTitle": false,
     "title": ""
    }
   },
   "outputs": [],
   "source": [
    "#delete unity catalog table if it exists\n",
    "#spark.sql(f\"\"\"DROP TABLE IF EXISTS {CATLOG_NAME}.{SCHEMA_NAME}.{TABLE_NAME}\"\"\")"
   ]
  },
  {
   "cell_type": "code",
   "execution_count": null,
   "metadata": {
    "application/vnd.databricks.v1+cell": {
     "cellMetadata": {
      "byteLimit": 2048000,
      "rowLimit": 10000
     },
     "inputWidgets": {},
     "nuid": "ede03699-ce6f-46bc-95a0-da2df0bbf784",
     "showTitle": false,
     "title": ""
    }
   },
   "outputs": [
    {
     "data": {
      "text/html": [
       "<style scoped>\n",
       "  .table-result-container {\n",
       "    max-height: 300px;\n",
       "    overflow: auto;\n",
       "  }\n",
       "  table, th, td {\n",
       "    border: 1px solid black;\n",
       "    border-collapse: collapse;\n",
       "  }\n",
       "  th, td {\n",
       "    padding: 5px;\n",
       "  }\n",
       "  th {\n",
       "    text-align: left;\n",
       "  }\n",
       "</style><div class='table-result-container'><table class='table-result'><thead style='background-color: white'><tr><th>movie_id</th><th>title</th><th>genre</th><th>plot</th></tr></thead><tbody><tr><td>1</td><td>The Shawshank Redemption</td><td>Drama</td><td>Two imprisoned men bond over a number of years, finding solace and eventual redemption through acts of common decency.</td></tr><tr><td>2</td><td>The Godfather</td><td>Crime</td><td>The aging patriarch of an organized crime dynasty transfers control of his clandestine empire to his reluctant son.</td></tr><tr><td>3</td><td>The Dark Knight</td><td>Action</td><td>When the menace known as the Joker emerges from his mysterious past, he wreaks havoc and chaos on the people of Gotham.</td></tr><tr><td>4</td><td>Pulp Fiction</td><td>Crime</td><td>The lives of two mob hitmen, a boxer, a gangster's wife, and a pair of diner bandits intertwine in four tales of violence and redemption.</td></tr><tr><td>5</td><td>Schindler's List</td><td>Biography</td><td>In German-occupied Poland during World War II, Oskar Schindler gradually becomes concerned for his Jewish workforce after witnessing their persecution by the Nazis.</td></tr><tr><td>6</td><td>The Lord of the Rings: The Return of the King</td><td>Adventure</td><td>Gandalf and Aragorn lead the World of Men against Sauron's army to draw his gaze from Frodo and Sam as they approach Mount Doom with the One Ring.</td></tr><tr><td>7</td><td>Fight Club</td><td>Drama</td><td>An insomniac office worker and a devil-may-care soap maker form an underground fight club that evolves into something much, much more.</td></tr><tr><td>8</td><td>Forrest Gump</td><td>Drama</td><td>The presidencies of Kennedy and Johnson, the events of Vietnam, Watergate, and other history unfold through the perspective of an Alabama man with an IQ of 75.</td></tr><tr><td>9</td><td>Inception</td><td>Sci-Fi</td><td>A thief who steals corporate secrets through the use of dream-sharing technology is given the inverse task of planting an idea into the mind of a C.E.O.</td></tr><tr><td>10</td><td>The Matrix</td><td>Sci-Fi</td><td>A computer hacker learns from mysterious rebels about the true nature of his reality and his role in the war against its controllers.</td></tr><tr><td>11</td><td>Goodfellas</td><td>Biography</td><td>The story of Henry Hill and his life in the mob, covering his relationship with his wife Karen Hill and his mob partners Jimmy Conway and Tommy DeVito.</td></tr><tr><td>12</td><td>The Empire Strikes Back</td><td>Action</td><td>After the Rebels are brutally overpowered by the Empire on the ice planet Hoth, Luke Skywalker begins Jedi training with Yoda, while his friends are pursued by Darth Vader.</td></tr><tr><td>13</td><td>City of God</td><td>Crime</td><td>In the slums of Rio, two kids' paths diverge as one struggles to become a photographer and the other a kingpin.</td></tr><tr><td>14</td><td>The Silence of the Lambs</td><td>Thriller</td><td>A young F.B.I. cadet must receive the help of an incarcerated and manipulative cannibal killer to catch another serial killer, a madman who skins his victims.</td></tr><tr><td>15</td><td>Se7en</td><td>Crime</td><td>Two detectives, a rookie and a veteran, hunt a serial killer who uses the seven deadly sins as his motives.</td></tr><tr><td>16</td><td>The Usual Suspects</td><td>Mystery</td><td>A sole survivor tells of the twisty events leading up to a horrific gun battle on a boat, which begin when five criminals meet at a seemingly random police lineup.</td></tr><tr><td>17</td><td>Saving Private Ryan</td><td>War</td><td>Following the Normandy Landings, a group of U.S. soldiers go behind enemy lines to retrieve a paratrooper whose brothers have been killed in action.</td></tr><tr><td>18</td><td>Spirited Away</td><td>Animation</td><td>During her family's move to the suburbs, a sullen 10-year-old girl wanders into a world ruled by gods, witches, and spirits, where humans are changed into beasts.</td></tr><tr><td>19</td><td>Parasite</td><td>Thriller</td><td>Greed and class discrimination threaten the newly formed symbiotic relationship between the wealthy Park family and the destitute Kim clan.</td></tr><tr><td>20</td><td>Interstellar</td><td>Sci-Fi</td><td>A team of explorers travel through a wormhole in space in an attempt to ensure humanity's survival.</td></tr></tbody></table></div>"
      ]
     },
     "metadata": {
      "application/vnd.databricks.v1+output": {
       "addedWidgets": {},
       "aggData": [],
       "aggError": "",
       "aggOverflow": false,
       "aggSchema": [],
       "aggSeriesLimitReached": false,
       "aggType": "",
       "arguments": {},
       "columnCustomDisplayInfos": {},
       "data": [
        [
         "1",
         "The Shawshank Redemption",
         "Drama",
         "Two imprisoned men bond over a number of years, finding solace and eventual redemption through acts of common decency."
        ],
        [
         "2",
         "The Godfather",
         "Crime",
         "The aging patriarch of an organized crime dynasty transfers control of his clandestine empire to his reluctant son."
        ],
        [
         "3",
         "The Dark Knight",
         "Action",
         "When the menace known as the Joker emerges from his mysterious past, he wreaks havoc and chaos on the people of Gotham."
        ],
        [
         "4",
         "Pulp Fiction",
         "Crime",
         "The lives of two mob hitmen, a boxer, a gangster's wife, and a pair of diner bandits intertwine in four tales of violence and redemption."
        ],
        [
         "5",
         "Schindler's List",
         "Biography",
         "In German-occupied Poland during World War II, Oskar Schindler gradually becomes concerned for his Jewish workforce after witnessing their persecution by the Nazis."
        ],
        [
         "6",
         "The Lord of the Rings: The Return of the King",
         "Adventure",
         "Gandalf and Aragorn lead the World of Men against Sauron's army to draw his gaze from Frodo and Sam as they approach Mount Doom with the One Ring."
        ],
        [
         "7",
         "Fight Club",
         "Drama",
         "An insomniac office worker and a devil-may-care soap maker form an underground fight club that evolves into something much, much more."
        ],
        [
         "8",
         "Forrest Gump",
         "Drama",
         "The presidencies of Kennedy and Johnson, the events of Vietnam, Watergate, and other history unfold through the perspective of an Alabama man with an IQ of 75."
        ],
        [
         "9",
         "Inception",
         "Sci-Fi",
         "A thief who steals corporate secrets through the use of dream-sharing technology is given the inverse task of planting an idea into the mind of a C.E.O."
        ],
        [
         "10",
         "The Matrix",
         "Sci-Fi",
         "A computer hacker learns from mysterious rebels about the true nature of his reality and his role in the war against its controllers."
        ],
        [
         "11",
         "Goodfellas",
         "Biography",
         "The story of Henry Hill and his life in the mob, covering his relationship with his wife Karen Hill and his mob partners Jimmy Conway and Tommy DeVito."
        ],
        [
         "12",
         "The Empire Strikes Back",
         "Action",
         "After the Rebels are brutally overpowered by the Empire on the ice planet Hoth, Luke Skywalker begins Jedi training with Yoda, while his friends are pursued by Darth Vader."
        ],
        [
         "13",
         "City of God",
         "Crime",
         "In the slums of Rio, two kids' paths diverge as one struggles to become a photographer and the other a kingpin."
        ],
        [
         "14",
         "The Silence of the Lambs",
         "Thriller",
         "A young F.B.I. cadet must receive the help of an incarcerated and manipulative cannibal killer to catch another serial killer, a madman who skins his victims."
        ],
        [
         "15",
         "Se7en",
         "Crime",
         "Two detectives, a rookie and a veteran, hunt a serial killer who uses the seven deadly sins as his motives."
        ],
        [
         "16",
         "The Usual Suspects",
         "Mystery",
         "A sole survivor tells of the twisty events leading up to a horrific gun battle on a boat, which begin when five criminals meet at a seemingly random police lineup."
        ],
        [
         "17",
         "Saving Private Ryan",
         "War",
         "Following the Normandy Landings, a group of U.S. soldiers go behind enemy lines to retrieve a paratrooper whose brothers have been killed in action."
        ],
        [
         "18",
         "Spirited Away",
         "Animation",
         "During her family's move to the suburbs, a sullen 10-year-old girl wanders into a world ruled by gods, witches, and spirits, where humans are changed into beasts."
        ],
        [
         "19",
         "Parasite",
         "Thriller",
         "Greed and class discrimination threaten the newly formed symbiotic relationship between the wealthy Park family and the destitute Kim clan."
        ],
        [
         "20",
         "Interstellar",
         "Sci-Fi",
         "A team of explorers travel through a wormhole in space in an attempt to ensure humanity's survival."
        ]
       ],
       "datasetInfos": [],
       "dbfsResultPath": null,
       "isJsonSchema": true,
       "metadata": {},
       "overflow": false,
       "plotOptions": {
        "customPlotOptions": {},
        "displayType": "table",
        "pivotAggregation": null,
        "pivotColumns": null,
        "xColumns": null,
        "yColumns": null
       },
       "removedWidgets": [],
       "schema": [
        {
         "metadata": "{}",
         "name": "movie_id",
         "type": "\"string\""
        },
        {
         "metadata": "{}",
         "name": "title",
         "type": "\"string\""
        },
        {
         "metadata": "{}",
         "name": "genre",
         "type": "\"string\""
        },
        {
         "metadata": "{}",
         "name": "plot",
         "type": "\"string\""
        }
       ],
       "type": "table"
      }
     },
     "output_type": "display_data"
    }
   ],
   "source": [
    "#test dataset has movies plots\n",
    "df = spark.read.csv(\"s3:/<s3bucketname>/data/movie_plots.csv\", header=True)\n",
    "display(df)"
   ]
  },
  {
   "cell_type": "code",
   "execution_count": null,
   "metadata": {
    "application/vnd.databricks.v1+cell": {
     "cellMetadata": {
      "byteLimit": 2048000,
      "rowLimit": 10000
     },
     "inputWidgets": {},
     "nuid": "ff39cf6b-4f9c-4f9a-a5e6-deaf8d18408e",
     "showTitle": false,
     "title": ""
    }
   },
   "outputs": [],
   "source": [
    "#load data into delta table and enable change data feed\n",
    "(df\n",
    "    .write\n",
    "    .format('delta')\n",
    "    .mode('overwrite')\n",
    "    .option('overwriteSchema','true')\n",
    "    .option(\"delta.enableChangeDataFeed\", \"true\")\n",
    "    .saveAsTable(f\"{CATLOG_NAME}.{SCHEMA_NAME}.{TABLE_NAME}\")\n",
    "  )\n",
    "\n",
    "#spark.sql(f\"\"\"ALTER TABLE {CATLOG_NAME}.{SCHEMA_NAME}.{TABLE_NAME} SET TBLPROPERTIES (delta.enableChangeDataFeed = true) \"\"\")"
   ]
  },
  {
   "cell_type": "code",
   "execution_count": null,
   "metadata": {
    "application/vnd.databricks.v1+cell": {
     "cellMetadata": {
      "byteLimit": 2048000,
      "rowLimit": 10000
     },
     "inputWidgets": {},
     "nuid": "8d862320-c40a-4c81-812e-a88310f1f2cd",
     "showTitle": false,
     "title": ""
    }
   },
   "outputs": [],
   "source": [
    "#create vectorsearch index\n",
    "index = vsclient.create_delta_sync_index_and_wait(\n",
    "  endpoint_name=VS_ENDPOINT_NAME,\n",
    "  source_table_name=f\"{CATLOG_NAME}.{SCHEMA_NAME}.{TABLE_NAME}\",\n",
    "  index_name=f\"{CATLOG_NAME}.{SCHEMA_NAME}.{INDEX_NAME}\",\n",
    "  pipeline_type='TRIGGERED',\n",
    "  primary_key=\"movie_id\",\n",
    "  embedding_source_column=\"plot\",\n",
    "  embedding_model_endpoint_name=VS_MODEL_NAME\n",
    ")"
   ]
  },
  {
   "cell_type": "code",
   "execution_count": null,
   "metadata": {
    "application/vnd.databricks.v1+cell": {
     "cellMetadata": {
      "byteLimit": 2048000,
      "rowLimit": 10000
     },
     "inputWidgets": {},
     "nuid": "94b97474-7ddb-48c9-8908-80dee97fd9db",
     "showTitle": false,
     "title": ""
    }
   },
   "outputs": [],
   "source": [
    "#syncing index with delta table\n",
    "#index.sync()"
   ]
  },
  {
   "cell_type": "code",
   "execution_count": null,
   "metadata": {
    "application/vnd.databricks.v1+cell": {
     "cellMetadata": {
      "byteLimit": 2048000,
      "rowLimit": 10000
     },
     "inputWidgets": {},
     "nuid": "dbd9674e-dfcb-434b-816b-615934783547",
     "showTitle": false,
     "title": ""
    }
   },
   "outputs": [],
   "source": [
    "#helper function to display search results\n",
    "def display_search_results(results):\n",
    "    rows = results['result']['data_array']\n",
    "    for (movie_id, genre, plot, title, score) in rows:\n",
    "        if len(plot) > 32:\n",
    "            # trim text output for readability\n",
    "            plot = plot[0:32] + \"...\"\n",
    "        print(f\"id: {movie_id}  title: {title} genre '{genre}' plot '{plot}' score: {score}\")"
   ]
  },
  {
   "cell_type": "code",
   "execution_count": null,
   "metadata": {
    "application/vnd.databricks.v1+cell": {
     "cellMetadata": {
      "byteLimit": 2048000,
      "rowLimit": 10000
     },
     "inputWidgets": {},
     "nuid": "e49823fd-a5de-464f-ab1f-9344b920ade9",
     "showTitle": false,
     "title": ""
    }
   },
   "outputs": [
    {
     "name": "stdout",
     "output_type": "stream",
     "text": [
      "id: 6  title: The Lord of the Rings: The Return of the King genre 'Adventure' plot 'Gandalf and Aragorn lead the Wor...' score: 0.59288234\n",
      "id: 20  title: Interstellar genre 'Sci-Fi' plot 'A team of explorers travel throu...' score: 0.5451615\n",
      "id: 12  title: The Empire Strikes Back genre 'Action' plot 'After the Rebels are brutally ov...' score: 0.5049474\n"
     ]
    }
   ],
   "source": [
    "#testing similarity search\n",
    "results = index.similarity_search(\n",
    "  query_text=\"A group of friends embark on an epic adventure to destroy a powerful ring.\",\n",
    "  columns=[\"movie_id\", \"genre\",\"plot\",\"title\"],\n",
    "  num_results=3,\n",
    "  )\n",
    "display_search_results(results)"
   ]
  },
  {
   "cell_type": "code",
   "execution_count": null,
   "metadata": {
    "application/vnd.databricks.v1+cell": {
     "cellMetadata": {
      "byteLimit": 2048000,
      "rowLimit": 10000
     },
     "inputWidgets": {},
     "nuid": "86808f9d-e2a3-4555-b8c0-70037eadb4a8",
     "showTitle": false,
     "title": ""
    }
   },
   "outputs": [
    {
     "name": "stdout",
     "output_type": "stream",
     "text": [
      "id: 6  title: The Lord of the Rings: The Return of the King genre 'Adventure' plot 'Gandalf and Aragorn lead the Wor...' score: 0.9765625\n",
      "id: 17  title: Saving Private Ryan genre 'War' plot 'Following the Normandy Landings,...' score: 0.9606894841269842\n",
      "id: 16  title: The Usual Suspects genre 'Mystery' plot 'A sole survivor tells of the twi...' score: 0.9485294117647058\n"
     ]
    }
   ],
   "source": [
    "#testing hybrid search\n",
    "results = index.similarity_search(\n",
    "  query_text=\"A group of friends embark on an epic adventure to destroy a powerful ring.\",\n",
    "  columns=[\"movie_id\", \"genre\",\"plot\",\"title\"],\n",
    "  num_results=3,\n",
    "  query_type=\"hybrid\"\n",
    "  )\n",
    "display_search_results(results)"
   ]
  },
  {
   "cell_type": "code",
   "execution_count": null,
   "metadata": {
    "application/vnd.databricks.v1+cell": {
     "cellMetadata": {
      "byteLimit": 2048000,
      "rowLimit": 10000
     },
     "inputWidgets": {},
     "nuid": "0eecdc7a-dff8-40d0-8cb9-d4e3fa0c0725",
     "showTitle": false,
     "title": ""
    }
   },
   "outputs": [
    {
     "name": "stdout",
     "output_type": "stream",
     "text": [
      "id: 20  title: Interstellar genre 'Sci-Fi' plot 'A team of explorers travel throu...' score: 0.5451615\n",
      "id: 12  title: The Empire Strikes Back genre 'Action' plot 'After the Rebels are brutally ov...' score: 0.5049474\n",
      "id: 17  title: Saving Private Ryan genre 'War' plot 'Following the Normandy Landings,...' score: 0.4915407\n"
     ]
    }
   ],
   "source": [
    "#testing similarity search with filtering\n",
    "results = index.similarity_search(\n",
    "  query_text=\"A group of friends embark on an epic adventure to destroy a powerful ring.\",\n",
    "  columns=[\"movie_id\", \"genre\",\"plot\",\"title\"],\n",
    "  num_results=3,\n",
    "  filters={\"genre NOT\": \"Adventure\"}\n",
    "  )\n",
    "display_search_results(results)"
   ]
  },
  {
   "cell_type": "markdown",
   "metadata": {
    "application/vnd.databricks.v1+cell": {
     "cellMetadata": {},
     "inputWidgets": {},
     "nuid": "af3b30ea-4983-4446-b212-29b547f4a676",
     "showTitle": false,
     "title": ""
    }
   },
   "source": [
    "Run the next 3 cells and experiment with adding new movie to the table:"
   ]
  },
  {
   "cell_type": "code",
   "execution_count": null,
   "metadata": {
    "application/vnd.databricks.v1+cell": {
     "cellMetadata": {
      "byteLimit": 2048000,
      "rowLimit": 10000
     },
     "inputWidgets": {},
     "nuid": "2c464c56-47ee-4a5a-a3e4-7b8e3e64c1a3",
     "showTitle": false,
     "title": ""
    }
   },
   "outputs": [
    {
     "data": {
      "text/plain": [
       "DataFrame[num_affected_rows: bigint, num_inserted_rows: bigint]"
      ]
     },
     "execution_count": 114,
     "metadata": {},
     "output_type": "execute_result"
    }
   ],
   "source": [
    "#add new data to the delta table\n",
    "spark.sql(f\"\"\"INSERT INTO {CATLOG_NAME}.{SCHEMA_NAME}.{TABLE_NAME} (movie_id, title, genre, plot) VALUES (21, 'Peter Pan','Kids', 'Peter Pan, a boy who never grows up, takes the children Wendy, John, and Michael to magical Neverland, where Wendy mothers the Lost Boys.') \"\"\")"
   ]
  },
  {
   "cell_type": "code",
   "execution_count": null,
   "metadata": {
    "application/vnd.databricks.v1+cell": {
     "cellMetadata": {
      "byteLimit": 2048000,
      "rowLimit": 10000
     },
     "inputWidgets": {},
     "nuid": "cee474fb-d164-4ce2-804e-1c4952daccf4",
     "showTitle": false,
     "title": ""
    }
   },
   "outputs": [
    {
     "data": {
      "text/plain": [
       "{}"
      ]
     },
     "execution_count": 116,
     "metadata": {},
     "output_type": "execute_result"
    }
   ],
   "source": [
    "#it takes a while to rebuild the index\n",
    "index.sync()"
   ]
  },
  {
   "cell_type": "code",
   "execution_count": null,
   "metadata": {
    "application/vnd.databricks.v1+cell": {
     "cellMetadata": {
      "byteLimit": 2048000,
      "rowLimit": 10000
     },
     "inputWidgets": {},
     "nuid": "163fda1d-d0ce-4034-b0ad-5c56e1aa9d19",
     "showTitle": false,
     "title": ""
    }
   },
   "outputs": [
    {
     "name": "stdout",
     "output_type": "stream",
     "text": [
      "id: 21  title: Peter Pan genre 'Kids' plot 'Peter Pan, a boy who never grows...' score: 0.591169\n",
      "id: 13  title: City of God genre 'Crime' plot 'In the slums of Rio, two kids' p...' score: 0.518501\n",
      "id: 10  title: The Matrix genre 'Sci-Fi' plot 'A computer hacker learns from my...' score: 0.50492597\n"
     ]
    }
   ],
   "source": [
    "#testing new data\n",
    "results = index.similarity_search(\n",
    "  query_text=\"Adventures of the boy who never grows up.\",\n",
    "  columns=[\"movie_id\", \"genre\",\"plot\",\"title\"],\n",
    "  num_results=3\n",
    "  )\n",
    "display_search_results(results)"
   ]
  },
  {
   "cell_type": "code",
   "execution_count": null,
   "metadata": {
    "application/vnd.databricks.v1+cell": {
     "cellMetadata": {
      "byteLimit": 2048000,
      "rowLimit": 10000
     },
     "inputWidgets": {},
     "nuid": "1d202697-d574-4d87-978c-db5c3e2c1067",
     "showTitle": false,
     "title": ""
    }
   },
   "outputs": [
    {
     "data": {
      "text/plain": [
       "{}"
      ]
     },
     "execution_count": 120,
     "metadata": {},
     "output_type": "execute_result"
    }
   ],
   "source": [
    "#delete vectorsearch index\n",
    "vsclient.delete_index(endpoint_name=VS_ENDPOINT_NAME, index_name=f\"{CATLOG_NAME}.{SCHEMA_NAME}.{INDEX_NAME}\")"
   ]
  },
  {
   "cell_type": "code",
   "execution_count": null,
   "metadata": {
    "application/vnd.databricks.v1+cell": {
     "cellMetadata": {
      "byteLimit": 2048000,
      "rowLimit": 10000
     },
     "inputWidgets": {},
     "nuid": "61afbb9e-d317-49e6-a810-9cdc4fa5762b",
     "showTitle": false,
     "title": ""
    }
   },
   "outputs": [
    {
     "data": {
      "text/plain": [
       "DataFrame[]"
      ]
     },
     "execution_count": 122,
     "metadata": {},
     "output_type": "execute_result"
    }
   ],
   "source": [
    "#delete unity catalog table\n",
    "spark.sql(f\"\"\"DROP TABLE {CATLOG_NAME}.{SCHEMA_NAME}.{TABLE_NAME}\"\"\")"
   ]
  }
 ],
 "metadata": {
  "application/vnd.databricks.v1+notebook": {
   "dashboards": [],
   "environmentMetadata": {
    "base_environment": "",
    "client": "1"
   },
   "language": "python",
   "notebookMetadata": {
    "mostRecentlyExecutedCommandWithImplicitDF": {
     "commandId": -1,
     "dataframes": [
      "_sqldf"
     ]
    },
    "pythonIndentUnit": 4
   },
   "notebookName": "3. Databricks Vector Search",
   "widgets": {}
  },
  "language_info": {
   "name": "python"
  }
 },
 "nbformat": 4,
 "nbformat_minor": 0
}
